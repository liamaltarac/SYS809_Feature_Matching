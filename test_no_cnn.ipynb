{
 "cells": [
  {
   "cell_type": "code",
   "execution_count": 1,
   "metadata": {},
   "outputs": [],
   "source": [
    "import cv2\n",
    "import matplotlib.pyplot as plt\n",
    "import numpy as np\n",
    "\n",
    "\n",
    "import tensorflow as tf\n",
    "import os\n",
    "#os.environ[\"CUDA_VISIBLE_DEVICES\"]=\"-1\"  #disables GPU \n",
    "import matplotlib.pyplot as plt\n",
    "import numpy as np\n",
    "#tf.__version__\n",
    "from tensorflow.python.client import device_lib\n",
    "#print(device_lib.list_local_devices())\n",
    "\n",
    "plt.rcParams['figure.figsize'] = [10,10]\n",
    "\n",
    "from tensorflow.keras import layers\n",
    "from tensorflow.keras.models import Model\n",
    "from tensorflow.keras.layers import Dense, Dropout, Activation, Flatten\n",
    "from tensorflow.keras.optimizers import RMSprop\n",
    "from tensorflow.keras import backend as K\n",
    "\n",
    "from sklearn.utils import shuffle\n",
    "from sklearn.model_selection import train_test_split\n",
    "from tensorflow.keras.utils import to_categorical"
   ]
  },
  {
   "cell_type": "code",
   "execution_count": 2,
   "metadata": {},
   "outputs": [],
   "source": [
    "from tensorflow.keras.applications.vgg16 import preprocess_input\n",
    "from tensorflow.keras.preprocessing import image\n",
    "\n",
    "import os\n",
    "import cv2\n",
    "import numpy as np\n",
    "#https://machinelearningmastery.com/use-pre-trained-vgg-model-classify-objects-photographs/\n",
    "\n",
    "def load_img(img_path,gray = False):\n",
    "    \n",
    "    if gray:\n",
    "        return cv2.imread(img_path , cv2.IMREAD_GRAYSCALE) \n",
    "    \n",
    "    im = cv2.imread(img_path ) \n",
    "    im_rgb = cv2.cvtColor(im, cv2.COLOR_BGR2RGB)\n",
    "    return im"
   ]
  },
  {
   "cell_type": "code",
   "execution_count": 3,
   "metadata": {},
   "outputs": [],
   "source": [
    "from tensorflow.keras.preprocessing import image\n",
    "from tensorflow.keras.applications.vgg16 import decode_predictions\n",
    "from tensorflow.keras.applications import VGG16\n",
    "\n",
    "model = VGG16(weights='imagenet',\n",
    "                  include_top=True,\n",
    "                  input_shape=(224, 224, 3))"
   ]
  },
  {
   "cell_type": "code",
   "execution_count": 4,
   "metadata": {},
   "outputs": [],
   "source": [
    "def get_filters(layer_name):\n",
    "    layer = [l for l in model.layers if layer_name == l.name][0]\n",
    "\n",
    "    filters, biases = model.layers[1].get_weights()\n",
    "    f_min, f_max = filters.min(), filters.max()\n",
    "    filters = (filters - f_min) / (f_max - f_min)\n",
    "    n_filters, ix = 6, 1\n",
    "    for i in range(n_filters):\n",
    "        # get the filter\n",
    "        f = filters[:, :, :, i]\n",
    "        # plot each channel separately\n",
    "        for j in range(3):\n",
    "            # specify subplot and turn of axis\n",
    "            ax = plt.subplot(n_filters, 3, ix)\n",
    "            ax.set_xticks([])\n",
    "            ax.set_yticks([])\n",
    "            # plot filter channel in grayscale\n",
    "            plt.imshow(f[:, :, j], cmap='gray')\n",
    "            ix += 1\n",
    "    # show the figure\n",
    "    plt.show()\n"
   ]
  },
  {
   "cell_type": "code",
   "execution_count": 39,
   "metadata": {},
   "outputs": [],
   "source": [
    "# A function that does the above step but for any all layers in a block\n",
    "from sklearn import preprocessing\n",
    "min_max_scaler = preprocessing.MinMaxScaler()\n",
    "def cnn_lap(image, layer_name):\n",
    "    mag = []\n",
    "    layer = [l for l in model.layers if layer_name == l.name][0]\n",
    "\n",
    "    layer = [l for l in model.layers if layer_name == l.name][0]\n",
    "\n",
    "    filters, biases = model.layers[1].get_weights()\n",
    "    f_min, f_max = filters.min(), filters.max()\n",
    "    filters = (filters - f_min) / (f_max - f_min)\n",
    "    filters = tf.constant( filters[:, :, :, 1], dtype=tf.float32)\n",
    "    image = np.array([image])\n",
    "    image =  tf.constant(image, dtype=tf.float32)\n",
    "    filtered_img = tf.nn.conv2d(np.array([image]), filters = np.array([filters]), strides=[1, 1, 1, 1], padding='VALID').numpy()\n",
    "    print(\"filtered img \", type(filtered_img))\n",
    "    laps = []\n",
    "    for i in range(0, 64):\n",
    "        print(i)\n",
    "        out = filtered_img[i][0]\n",
    "        plt.imshow(out)\n",
    "\n",
    "        plt.show()\n",
    "        dst = cv2.Laplacian(out, cv2.CV_32F )\n",
    "        laps.append(dst)\n",
    "\n",
    "    mag.append(np.linalg.norm(np.abs(laps), axis = 0))\n",
    "    #mag.append(np.sum(laps, axis = 0))\n",
    "    #scaled_mag = min_max_scaler.fit_transform(mag[0])\n",
    "\n",
    "    #mag /= mag.max()/255.0'''\n",
    "    return mag[0] * 1.0/mag[0].max()  , filtered_img, np.array(laps)\n",
    "    #return dst"
   ]
  },
  {
   "cell_type": "code",
   "execution_count": 6,
   "metadata": {},
   "outputs": [],
   "source": [
    "def local_arg_exrtrema_2(mat1, mat2):\n",
    "\n",
    "    #Use a moving window to find local max/min in section. Determine coordinate of max pixel in image.\n",
    "    idx = []\n",
    "    thresh = np.abs(np.amax(mat2) - np.abs(np.amin(mat2)))\n",
    "    #print(\"Thresh = \", thresh)\n",
    "\n",
    "    r = cv2.cornerHarris(mat2,2,3,0.001)\n",
    "    r = cv2.dilate(r,None)\n",
    "    for i in range(1, mat1.shape[0]-1):\n",
    "        for j in range(1, mat1.shape[1]-1):\n",
    "            if r[i,j]  > 0.01*np.amax(r) : #if pixel is not on edge\n",
    "                pixel_of_interest = mat2[i,j]\n",
    "                #if np.abs(pixel_of_interest)>0.15:\n",
    "\n",
    "                neighbours = mat2[i-1:i+2, j-1:j+2]\n",
    "                neighbours[1,1] = np.NaN\n",
    "                neighbours_below = mat1[i-1:i+2, j-1:j+2]\n",
    "                if (pixel_of_interest > np.nanmax(neighbours) and pixel_of_interest > np.nanmax(neighbours_below)) or (pixel_of_interest < np.nanmin(neighbours) and pixel_of_interest < np.nanmin(neighbours_below)):\n",
    "                    idx.append(np.array([j,i]))\n",
    "\n",
    "    return np.unique(idx, axis=0)"
   ]
  },
  {
   "cell_type": "code",
   "execution_count": 7,
   "metadata": {},
   "outputs": [],
   "source": [
    "def getDescriptors(layer_output, coords):\n",
    "    #fig2 = plt.figure(figsize=(30, 30))\n",
    "\n",
    "    layers = []\n",
    "    '''for i in range(len(layer_output)):\n",
    "        layer_output[i] = cv2.resize(layer_output[i], (224, 224), interpolation = cv2.INTER_LINEAR )'''\n",
    "    layer_output = np.stack(layer_output)\n",
    "    '''for i in range(0,64):\n",
    "        layers.append(layer_output[:,:,i])'''\n",
    "    #layers = np.stack(layers)\n",
    "\n",
    "    descriptors = []\n",
    "    for col, row in  coords:\n",
    "        #d_vec = np.array(layer_output[:,row, col ]).flatten()\n",
    "        d_vec = np.array(layer_output[:,row-1:row+2, col-1:col+2 ]).flatten()\n",
    "        d_vec = np.abs(d_vec)\n",
    "        d_vec *= 1.0/d_vec.max()\n",
    "        descriptors.append(d_vec)\n",
    "    return descriptors"
   ]
  },
  {
   "cell_type": "code",
   "execution_count": null,
   "metadata": {},
   "outputs": [],
   "source": []
  },
  {
   "cell_type": "code",
   "execution_count": 8,
   "metadata": {},
   "outputs": [],
   "source": [
    "def get_keypoints_and_descriptors(img):\n",
    "    keypoint_coords = []\n",
    "\n",
    "    #mag_1,_,_ = cnn_lap(img, layer_name=model.layers[0].name)\n",
    "    mag_2 ,layer_out,lap_out = cnn_lap(img, layer_name=model.layers[1].name)\n",
    "    mag_3,out,_ = cnn_lap(img, layer_name=model.layers[2].name)\n",
    "    #_,layer_out,_ = cnn_lap(img, layer_name=model.layers[7].name)\n",
    "    \n",
    "    keypoint_coords = np.unique(local_arg_exrtrema_2(mag_1, mag_2 ), axis=0)\n",
    "\n",
    "    desc = getDescriptors(lap_out, keypoint_coords)\n",
    "\n",
    "    k=[]\n",
    "    for row, col in keypoint_coords:\n",
    "        #print(float(row), float(col))\n",
    "        keypoint = cv2.KeyPoint()\n",
    "        keypoint.pt = (float(row), float(col))\n",
    "        keypoint.octave = 0\n",
    "        keypoint.size = 0\n",
    "        keypoint.response = 0\n",
    "        k.append(keypoint)\n",
    "\n",
    "\n",
    "    return np.array(k), np.array(desc)"
   ]
  },
  {
   "cell_type": "code",
   "execution_count": 40,
   "metadata": {},
   "outputs": [
    {
     "name": "stdout",
     "output_type": "stream",
     "text": [
      "Startin\n",
      "(4032, 3024, 3)\n"
     ]
    },
    {
     "name": "stderr",
     "output_type": "stream",
     "text": [
      "Clipping input data to the valid range for imshow with RGB data ([0..1] for floats or [0..255] for integers).\n"
     ]
    },
    {
     "name": "stdout",
     "output_type": "stream",
     "text": [
      "filtered img  <class 'numpy.ndarray'>\n",
      "0\n"
     ]
    },
    {
     "data": {
      "image/png": "[encoded data removed]",
      "text/plain": [
       "<Figure size 460.8x345.6 with 1 Axes>"
      ]
     },
     "metadata": {
      "needs_background": "light"
     },
     "output_type": "display_data"
    },
    {
     "name": "stdout",
     "output_type": "stream",
     "text": [
      "1\n"
     ]
    },
    {
     "ename": "IndexError",
     "evalue": "index 1 is out of bounds for axis 0 with size 1",
     "output_type": "error",
     "traceback": [
      "\u001b[1;31m---------------------------------------------------------------------------\u001b[0m",
      "\u001b[1;31mIndexError\u001b[0m                                Traceback (most recent call last)",
      "\u001b[1;32m~\\AppData\\Local\\Temp/ipykernel_9556/390224804.py\u001b[0m in \u001b[0;36m<module>\u001b[1;34m\u001b[0m\n\u001b[0;32m     12\u001b[0m \u001b[1;33m\u001b[0m\u001b[0m\n\u001b[0;32m     13\u001b[0m \u001b[1;33m\u001b[0m\u001b[0m\n\u001b[1;32m---> 14\u001b[1;33m \u001b[0mkp1\u001b[0m\u001b[1;33m,\u001b[0m\u001b[0mdes1\u001b[0m \u001b[1;33m=\u001b[0m \u001b[0mget_keypoints_and_descriptors\u001b[0m\u001b[1;33m(\u001b[0m\u001b[0mimg1\u001b[0m\u001b[1;33m)\u001b[0m\u001b[1;33m\u001b[0m\u001b[1;33m\u001b[0m\u001b[0m\n\u001b[0m\u001b[0;32m     15\u001b[0m \u001b[0mkp2\u001b[0m\u001b[1;33m,\u001b[0m\u001b[0mdes2\u001b[0m \u001b[1;33m=\u001b[0m \u001b[0mget_keypoints_and_descriptors\u001b[0m\u001b[1;33m(\u001b[0m\u001b[0mimg2\u001b[0m\u001b[1;33m)\u001b[0m\u001b[1;33m\u001b[0m\u001b[1;33m\u001b[0m\u001b[0m\n\u001b[0;32m     16\u001b[0m \u001b[0mprint\u001b[0m\u001b[1;33m(\u001b[0m\u001b[1;34m\"Got kp1 and desc1\"\u001b[0m\u001b[1;33m,\u001b[0m \u001b[0mkp1\u001b[0m\u001b[1;33m.\u001b[0m\u001b[0mshape\u001b[0m\u001b[1;33m,\u001b[0m \u001b[0mdes1\u001b[0m\u001b[1;33m.\u001b[0m\u001b[0mshape\u001b[0m\u001b[1;33m)\u001b[0m\u001b[1;33m\u001b[0m\u001b[1;33m\u001b[0m\u001b[0m\n",
      "\u001b[1;32m~\\AppData\\Local\\Temp/ipykernel_9556/140295502.py\u001b[0m in \u001b[0;36mget_keypoints_and_descriptors\u001b[1;34m(img)\u001b[0m\n\u001b[0;32m      3\u001b[0m \u001b[1;33m\u001b[0m\u001b[0m\n\u001b[0;32m      4\u001b[0m     \u001b[1;31m#mag_1,_,_ = cnn_lap(img, layer_name=model.layers[0].name)\u001b[0m\u001b[1;33m\u001b[0m\u001b[1;33m\u001b[0m\u001b[0m\n\u001b[1;32m----> 5\u001b[1;33m     \u001b[0mmag_2\u001b[0m \u001b[1;33m,\u001b[0m\u001b[0mlayer_out\u001b[0m\u001b[1;33m,\u001b[0m\u001b[0mlap_out\u001b[0m \u001b[1;33m=\u001b[0m \u001b[0mcnn_lap\u001b[0m\u001b[1;33m(\u001b[0m\u001b[0mimg\u001b[0m\u001b[1;33m,\u001b[0m \u001b[0mlayer_name\u001b[0m\u001b[1;33m=\u001b[0m\u001b[0mmodel\u001b[0m\u001b[1;33m.\u001b[0m\u001b[0mlayers\u001b[0m\u001b[1;33m[\u001b[0m\u001b[1;36m1\u001b[0m\u001b[1;33m]\u001b[0m\u001b[1;33m.\u001b[0m\u001b[0mname\u001b[0m\u001b[1;33m)\u001b[0m\u001b[1;33m\u001b[0m\u001b[1;33m\u001b[0m\u001b[0m\n\u001b[0m\u001b[0;32m      6\u001b[0m     \u001b[0mmag_3\u001b[0m\u001b[1;33m,\u001b[0m\u001b[0mout\u001b[0m\u001b[1;33m,\u001b[0m\u001b[0m_\u001b[0m \u001b[1;33m=\u001b[0m \u001b[0mcnn_lap\u001b[0m\u001b[1;33m(\u001b[0m\u001b[0mimg\u001b[0m\u001b[1;33m,\u001b[0m \u001b[0mlayer_name\u001b[0m\u001b[1;33m=\u001b[0m\u001b[0mmodel\u001b[0m\u001b[1;33m.\u001b[0m\u001b[0mlayers\u001b[0m\u001b[1;33m[\u001b[0m\u001b[1;36m2\u001b[0m\u001b[1;33m]\u001b[0m\u001b[1;33m.\u001b[0m\u001b[0mname\u001b[0m\u001b[1;33m)\u001b[0m\u001b[1;33m\u001b[0m\u001b[1;33m\u001b[0m\u001b[0m\n\u001b[0;32m      7\u001b[0m     \u001b[1;31m#_,layer_out,_ = cnn_lap(img, layer_name=model.layers[7].name)\u001b[0m\u001b[1;33m\u001b[0m\u001b[1;33m\u001b[0m\u001b[0m\n",
      "\u001b[1;32m~\\AppData\\Local\\Temp/ipykernel_9556/1316506174.py\u001b[0m in \u001b[0;36mcnn_lap\u001b[1;34m(image, layer_name)\u001b[0m\n\u001b[0;32m     19\u001b[0m     \u001b[1;32mfor\u001b[0m \u001b[0mi\u001b[0m \u001b[1;32min\u001b[0m \u001b[0mrange\u001b[0m\u001b[1;33m(\u001b[0m\u001b[1;36m0\u001b[0m\u001b[1;33m,\u001b[0m \u001b[1;36m64\u001b[0m\u001b[1;33m)\u001b[0m\u001b[1;33m:\u001b[0m\u001b[1;33m\u001b[0m\u001b[1;33m\u001b[0m\u001b[0m\n\u001b[0;32m     20\u001b[0m         \u001b[0mprint\u001b[0m\u001b[1;33m(\u001b[0m\u001b[0mi\u001b[0m\u001b[1;33m)\u001b[0m\u001b[1;33m\u001b[0m\u001b[1;33m\u001b[0m\u001b[0m\n\u001b[1;32m---> 21\u001b[1;33m         \u001b[0mout\u001b[0m \u001b[1;33m=\u001b[0m \u001b[0mfiltered_img\u001b[0m\u001b[1;33m[\u001b[0m\u001b[0mi\u001b[0m\u001b[1;33m]\u001b[0m\u001b[1;33m[\u001b[0m\u001b[1;36m0\u001b[0m\u001b[1;33m]\u001b[0m\u001b[1;33m\u001b[0m\u001b[1;33m\u001b[0m\u001b[0m\n\u001b[0m\u001b[0;32m     22\u001b[0m         \u001b[0mplt\u001b[0m\u001b[1;33m.\u001b[0m\u001b[0mimshow\u001b[0m\u001b[1;33m(\u001b[0m\u001b[0mout\u001b[0m\u001b[1;33m)\u001b[0m\u001b[1;33m\u001b[0m\u001b[1;33m\u001b[0m\u001b[0m\n\u001b[0;32m     23\u001b[0m \u001b[1;33m\u001b[0m\u001b[0m\n",
      "\u001b[1;31mIndexError\u001b[0m: index 1 is out of bounds for axis 0 with size 1"
     ]
    }
   ],
   "source": [
    "plt.rcParams['figure.figsize'] = [6.4, 4.8]\n",
    "\n",
    "data_path1='./SYS809_projet2021_sequences1/new_livre1.JPG'\n",
    "data_path2='./SYS809_projet2021_sequences1/livre2.JPG'\n",
    "\n",
    "print(\"Startin\")\n",
    "img_shape=[224,224]\n",
    "img1 = i = cv2.imread(data_path1)\n",
    "img2 = cv2.imread(data_path2)\n",
    "print(img1.shape)\n",
    "#plt.imshow(img1[0])\n",
    "\n",
    "\n",
    "kp1,des1 = get_keypoints_and_descriptors(img1)\n",
    "kp2,des2 = get_keypoints_and_descriptors(img2)\n",
    "print(\"Got kp1 and desc1\", kp1.shape, des1.shape)\n",
    "print(\"Got kp2 and desc2\", len(kp2), len(des2))\n",
    "\n",
    "# FLANN parameters\n",
    "FLANN_INDEX_KDTREE = 0\n",
    "index_params = dict(algorithm = FLANN_INDEX_KDTREE, trees = 5)\n",
    "search_params = dict(checks=50)   # or pass empty dictionary\n",
    "\n",
    "flann = cv2.FlannBasedMatcher(index_params,search_params)\n",
    "\n",
    "#knnMatch retourne les 2 plus proche voisin pour chaque membre de des1\n",
    "matches = flann.knnMatch(des1,des2,k=2)\n",
    "#Les objects DMatch contiennent index de du point-cle de ds1 match dans le champ queryIdx\n",
    "#et l'index du point-cle appartenant a des2 dans le champ trainIdx\n",
    "print(\"Done Match\")\n",
    "\n",
    "# Need to draw only good matches, so create a mask\n",
    "matchesMask = [[0,0] for i in range(len(matches))]\n",
    "print(\"len match:\", len(matches))\n",
    "\n",
    "# ratio test as per Lowe's paper,\n",
    "good = []\n",
    "for i,(m,n) in enumerate(matches):\n",
    "    if m.distance < .7 * n.distance:\n",
    "        good.append(m)\n",
    "        matchesMask[i]=[1,0]\n",
    "\n",
    "draw_params = dict(matchColor = -1, #(0,255,0),\n",
    "                   singlePointColor = (0,0,0),\n",
    "                   matchesMask = matchesMask,\n",
    "                   flags = 2|4)\n",
    "\n",
    "img1 = i = cv2.imread(data_path1)\n",
    "img2 = cv2.imread(data_path2)\n",
    "img3 = cv2.drawMatchesKnn(img1,kp1,img2,kp2,matches,None, **draw_params )\n",
    "\n",
    "print(\"len match:\", len(matches))\n",
    "print(\"len good:\", len(good))\n",
    "\n",
    "plt.figure(figsize=(30, 30))\n",
    "plt.imshow(img3),plt.show()"
   ]
  },
  {
   "cell_type": "code",
   "execution_count": null,
   "metadata": {},
   "outputs": [],
   "source": [
    "\n",
    "img1_pts = np.float32([ kp.pt for kp in kp1 ])\n",
    "img2_pts = np.float32([ kp.pt for kp in kp2])\n",
    "\n",
    "plt.figure()\n",
    "plt.subplot(1,2,1)\n",
    "plt.imshow(img1)\n",
    "plt.scatter(list(list(zip(*img1_pts))[0]), list(list(zip(*img1_pts))[1]), s=[1], c='r')\n",
    "plt.subplot(1,2,2)\n",
    "plt.imshow(img2)\n",
    "plt.scatter(list(list(zip(*img2_pts))[0]), list(list(zip(*img2_pts))[1]), s=[1], c='r')\n",
    "plt.show()"
   ]
  }
 ],
 "metadata": {
  "interpreter": {
   "hash": "475d1117ccb240fef505c545958bb6f28a60dd9db01ade801a106393bc57993a"
  },
  "kernelspec": {
   "display_name": "Python 3.9.7 64-bit (conda)",
   "language": "python",
   "name": "python3"
  },
  "language_info": {
   "codemirror_mode": {
    "name": "ipython",
    "version": 3
   },
   "file_extension": ".py",
   "mimetype": "text/x-python",
   "name": "python",
   "nbconvert_exporter": "python",
   "pygments_lexer": "ipython3",
   "version": "3.9.7"
  },
  "orig_nbformat": 4
 },
 "nbformat": 4,
 "nbformat_minor": 2
}
