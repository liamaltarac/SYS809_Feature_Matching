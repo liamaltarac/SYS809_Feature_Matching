{
 "cells": [
  {
   "cell_type": "code",
   "execution_count": 45,
   "metadata": {},
   "outputs": [],
   "source": [
    "import cv2\n",
    "import matplotlib.pyplot as plt\n",
    "import numpy as np\n",
    "from scipy import ndimage\n",
    "\n",
    "from sa_decomp_layer import SADecompLayer\n",
    "\n",
    "import tensorflow as tf\n",
    "import os\n",
    "#os.environ[\"CUDA_VISIBLE_DEVICES\"]=\"-1\"  #disables GPU \n",
    "import matplotlib.pyplot as plt\n",
    "import numpy as np\n",
    "#tf.__version__\n",
    "from tensorflow.python.client import device_lib\n",
    "#print(device_lib.list_local_devices())\n",
    "\n",
    "plt.rcParams['figure.figsize'] = [10,10]\n",
    "from tensorflow.keras.models import Model\n",
    "from tensorflow.keras.layers import Dense, Dropout, Activation, Flatten\n",
    "from tensorflow.keras.optimizers import RMSprop\n",
    "from tensorflow.keras import backend as K\n",
    "\n",
    "\n",
    "from tensorflow.keras.layers import Layer\n",
    "from tensorflow.image import flip_up_down, flip_left_right, rot90\n",
    "from tensorflow.compat.v1 import extract_image_patches\n",
    "import numpy as np\n",
    "\n",
    "from keras.layers import Conv2D, Dense, Flatten, MaxPool2D\n",
    "from keras.models import Sequential, load_model\n",
    "\n",
    "from matplotlib.animation import FuncAnimation\n",
    "\n",
    "from scipy import ndimage, misc\n",
    "import sys\n",
    "\n",
    "from scipy.ndimage import rotate"
   ]
  },
  {
   "cell_type": "code",
   "execution_count": 31,
   "metadata": {},
   "outputs": [],
   "source": [
    "from tensorflow.keras.applications.vgg16 import preprocess_input\n",
    "from tensorflow.keras.preprocessing import image\n",
    "from scipy.ndimage import rotate\n",
    "from PIL import Image\n",
    "import PIL\n",
    "from matplotlib import cm\n",
    "\n",
    "#https://machinelearningmastery.com/use-pre-trained-vgg-model-classify-objects-photographs/\n",
    "\n",
    "def load_img(img_path,img_shape, preprocess=True, angle=0):\n",
    "    \n",
    "    img_rows=img_shape[0]\n",
    "    img_cols=img_shape[1]\n",
    "    #num_channel=img_shape[2]\n",
    "\n",
    "\n",
    "    img = Image.open(img_path )  \n",
    "    img = img.resize((img_rows, img_cols),Image.ANTIALIAS)\n",
    "  \n",
    "    white = (255,255,255)\n",
    "    img = img.rotate(angle, PIL.Image.NEAREST, expand = 1, fillcolor = white)\n",
    "    img = img.resize((img_rows, img_cols),Image.ANTIALIAS)\n",
    "\n",
    "    if preprocess:\n",
    "        img = image.img_to_array(img) \n",
    "        img = np.expand_dims(img, axis=0)\n",
    "\n",
    "        img =  preprocess_input(img)\n",
    "        return img\n",
    "\n",
    "    #data = np.array(data)\n",
    "    #data = data.astype('float32')\n",
    "    #data /= 255\n",
    "    #labels=np.array(labels)\n",
    "    #print('data shape',data.shape)\n",
    "    #print('labels shape',labels.shape)\n",
    "    return np.array(img)"
   ]
  },
  {
   "cell_type": "code",
   "execution_count": 52,
   "metadata": {},
   "outputs": [],
   "source": [
    "def SADecomp(filters):\n",
    "    inputs_shape = tf.shape(filters)  \n",
    "        \n",
    "    #height, width, n_channel, n_filters = inputs_shape[0], inputs_shape[1], inputs_shape[2], inputs_shape[3]\n",
    "    k = filters.shape[0]\n",
    "    #exp_data  = tf.expand_dims(filters[0], 0)\n",
    "\n",
    "\n",
    "    #patches = extract_image_patches(filters, [1, k, k, 1],  [1, k, k, 1], rates = [1,1,1,1] , padding = 'VALID')\n",
    "    #print(patches)\n",
    "    mat_flip_x = np.fliplr(filters)\n",
    "    mat_flip_y = np.flipud(filters)\n",
    "\n",
    "    mat_flip_xy =  np.fliplr( np.flipud(filters))\n",
    "\n",
    "    sum = filters + mat_flip_x + mat_flip_y + mat_flip_xy\n",
    "\n",
    "    mat_sum_rot_90 = rotate(sum,90)\n",
    "\n",
    "    #gc.collect()\n",
    "    #print(\"mat_sum_rot_90 shape \" , mat_sum_rot_90.shape, self._name)\n",
    "    \n",
    "    #print(\"OUT SHAPE,\" , out.shape)\n",
    "\n",
    "    return  (sum + mat_sum_rot_90) / 8, filters - ((sum + mat_sum_rot_90) / 8)"
   ]
  },
  {
   "cell_type": "code",
   "execution_count": 53,
   "metadata": {},
   "outputs": [
    {
     "name": "stderr",
     "output_type": "stream",
     "text": [
      "MovieWriter imagemagick unavailable; using Pillow instead.\n",
      "c:\\Users\\AN46710\\Anaconda3\\envs\\masters\\lib\\site-packages\\ipykernel_launcher.py:18: DeprecationWarning: ANTIALIAS is deprecated and will be removed in Pillow 10 (2023-07-01). Use Resampling.LANCZOS instead.\n",
      "c:\\Users\\AN46710\\Anaconda3\\envs\\masters\\lib\\site-packages\\ipykernel_launcher.py:21: DeprecationWarning: NEAREST is deprecated and will be removed in Pillow 10 (2023-07-01). Use Resampling.NEAREST or Dither.NONE instead.\n",
      "c:\\Users\\AN46710\\Anaconda3\\envs\\masters\\lib\\site-packages\\ipykernel_launcher.py:22: DeprecationWarning: ANTIALIAS is deprecated and will be removed in Pillow 10 (2023-07-01). Use Resampling.LANCZOS instead.\n",
      "Clipping input data to the valid range for imshow with RGB data ([0..1] for floats or [0..255] for integers).\n",
      "Clipping input data to the valid range for imshow with RGB data ([0..1] for floats or [0..255] for integers).\n"
     ]
    },
    {
     "name": "stdout",
     "output_type": "stream",
     "text": [
      "(1, 224, 224, 3)\n",
      "(1, 224, 224, 3)\n"
     ]
    },
    {
     "name": "stderr",
     "output_type": "stream",
     "text": [
      "Clipping input data to the valid range for imshow with RGB data ([0..1] for floats or [0..255] for integers).\n"
     ]
    },
    {
     "name": "stdout",
     "output_type": "stream",
     "text": [
      "(1, 224, 224, 3)\n"
     ]
    },
    {
     "name": "stderr",
     "output_type": "stream",
     "text": [
      "Clipping input data to the valid range for imshow with RGB data ([0..1] for floats or [0..255] for integers).\n"
     ]
    },
    {
     "name": "stdout",
     "output_type": "stream",
     "text": [
      "(1, 224, 224, 3)\n"
     ]
    },
    {
     "name": "stderr",
     "output_type": "stream",
     "text": [
      "Clipping input data to the valid range for imshow with RGB data ([0..1] for floats or [0..255] for integers).\n"
     ]
    },
    {
     "name": "stdout",
     "output_type": "stream",
     "text": [
      "(1, 224, 224, 3)\n"
     ]
    },
    {
     "name": "stderr",
     "output_type": "stream",
     "text": [
      "Clipping input data to the valid range for imshow with RGB data ([0..1] for floats or [0..255] for integers).\n"
     ]
    },
    {
     "name": "stdout",
     "output_type": "stream",
     "text": [
      "(1, 224, 224, 3)\n"
     ]
    },
    {
     "name": "stderr",
     "output_type": "stream",
     "text": [
      "Clipping input data to the valid range for imshow with RGB data ([0..1] for floats or [0..255] for integers).\n"
     ]
    },
    {
     "name": "stdout",
     "output_type": "stream",
     "text": [
      "(1, 224, 224, 3)\n"
     ]
    },
    {
     "name": "stderr",
     "output_type": "stream",
     "text": [
      "Clipping input data to the valid range for imshow with RGB data ([0..1] for floats or [0..255] for integers).\n"
     ]
    },
    {
     "name": "stdout",
     "output_type": "stream",
     "text": [
      "(1, 224, 224, 3)\n"
     ]
    },
    {
     "name": "stderr",
     "output_type": "stream",
     "text": [
      "Clipping input data to the valid range for imshow with RGB data ([0..1] for floats or [0..255] for integers).\n"
     ]
    },
    {
     "name": "stdout",
     "output_type": "stream",
     "text": [
      "(1, 224, 224, 3)\n"
     ]
    },
    {
     "name": "stderr",
     "output_type": "stream",
     "text": [
      "Clipping input data to the valid range for imshow with RGB data ([0..1] for floats or [0..255] for integers).\n"
     ]
    },
    {
     "name": "stdout",
     "output_type": "stream",
     "text": [
      "(1, 224, 224, 3)\n"
     ]
    },
    {
     "name": "stderr",
     "output_type": "stream",
     "text": [
      "Clipping input data to the valid range for imshow with RGB data ([0..1] for floats or [0..255] for integers).\n"
     ]
    },
    {
     "name": "stdout",
     "output_type": "stream",
     "text": [
      "(1, 224, 224, 3)\n"
     ]
    },
    {
     "data": {
      "image/png": "[encoded data removed]",
      "text/plain": [
       "<Figure size 720x720 with 2 Axes>"
      ]
     },
     "metadata": {
      "needs_background": "light"
     },
     "output_type": "display_data"
    }
   ],
   "source": [
    "\n",
    "\n",
    "from tkinter import Y\n",
    "\n",
    "import time\n",
    "fig, ax = plt.subplots(1,2)\n",
    "fig.set_tight_layout(True)\n",
    "\n",
    "\n",
    "def update(i):\n",
    "    label = 'timestep {0}'.format(i)\n",
    "\n",
    "    img  = load_img('../images/test_star.jpg', angle=i*10, img_shape=(224,224), preprocess=False)\n",
    "    \n",
    "    \n",
    "    #value = np.sqrt(((img.shape[0]/2.0)**2.0)+((img.shape[1]/2.0)**2.0))\n",
    "\n",
    "    #img = np.array(cv2.linearPolar(img,(img.shape[0]/2, img.shape[1]/2), value, cv2.WARP_FILL_OUTLIERS))\n",
    "\n",
    "    \n",
    "    ax[0].imshow(img)\n",
    "    #print(img.shape)\n",
    "    #y = np.fft.fft2(img[:,:,1])\n",
    "    #y = np.fft.fftshift(y)\n",
    "\n",
    "    '''ax[1].imshow(20*np.log(np.abs(y)), cmap = 'gray_r')\n",
    "\n",
    "    m = 20*np.log(np.abs(y))\n",
    "    m = m.reshape(1,224,224,1)\n",
    "    m  = tf.convert_to_tensor(m)'''\n",
    "    img = np.array(img, dtype='float')\n",
    "    img = img.reshape(1, 224, 224, 3)\n",
    "\n",
    "    #img  = tf.convert_to_tensor(img)\n",
    "\n",
    "    s, a = SADecomp(img[0])\n",
    "    #s, a = SADecompLayer(w_size = 3)(img)\n",
    "    print(img.shape)\n",
    "\n",
    "    ax[1].imshow(s[0], cmap = 'gray_r')\n",
    "\n",
    "\n",
    "    return ax\n",
    "\n",
    "\n",
    "\n",
    "anim = FuncAnimation(fig, update, frames=np.arange(0, 10), interval=200)\n",
    "\n",
    "anim.save('testMov.gif', dpi=80, writer='imagemagick')\n"
   ]
  }
 ],
 "metadata": {
  "kernelspec": {
   "display_name": "Python 3.7.13 ('masters')",
   "language": "python",
   "name": "python3"
  },
  "language_info": {
   "codemirror_mode": {
    "name": "ipython",
    "version": 3
   },
   "file_extension": ".py",
   "mimetype": "text/x-python",
   "name": "python",
   "nbconvert_exporter": "python",
   "pygments_lexer": "ipython3",
   "version": "3.7.13"
  },
  "orig_nbformat": 4,
  "vscode": {
   "interpreter": {
    "hash": "4f2ff97d05f7ea74f9ad893ce0ef62de10b7e20c3f21fc0f5866920ae6ae88e7"
   }
  }
 },
 "nbformat": 4,
 "nbformat_minor": 2
}
