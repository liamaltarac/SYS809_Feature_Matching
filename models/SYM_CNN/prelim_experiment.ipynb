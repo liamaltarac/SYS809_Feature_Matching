{
 "cells": [
  {
   "cell_type": "code",
   "execution_count": 1,
   "metadata": {},
   "outputs": [],
   "source": [
    "import numpy as np\n",
    "import tensorflow as tf\n",
    "from tensorflow import keras\n",
    "\n",
    "from tensorflow.keras import layers\n",
    "\n",
    "from tensorflow.keras import backend as K\n",
    "from tensorflow.keras.layers import Input, Concatenate , Add, Dot, Activation, Lambda\n",
    "from tensorflow.keras.models import Model\n",
    "\n",
    "from tensorflow.image import flip_up_down, flip_left_right, rot90\n",
    "from tensorflow.linalg import normalize\n",
    "\n",
    "from tensorflow.keras.preprocessing.image import ImageDataGenerator\n",
    "\n",
    "\n",
    "import matplotlib.pyplot as plt\n"
   ]
  },
  {
   "cell_type": "code",
   "execution_count": 2,
   "metadata": {},
   "outputs": [
    {
     "name": "stdout",
     "output_type": "stream",
     "text": [
      "Num GPUs Available:  1\n",
      "2.9.1\n"
     ]
    }
   ],
   "source": [
    "from tensorflow.python.client import device_lib\n",
    "#tf.disable_v2_behavior()\n",
    "\n",
    "#print(device_lib.list_local_devices())\n",
    "print(\"Num GPUs Available: \", len(tf.config.list_physical_devices('GPU')))\n",
    "\n",
    "print(tf.__version__ )"
   ]
  },
  {
   "cell_type": "code",
   "execution_count": 3,
   "metadata": {},
   "outputs": [],
   "source": [
    "class SymAntiConv2D(tf.keras.layers.Layer):\n",
    "    def __init__(self, filters, kernel_size=(3,3), padding = 'VALID', strides = (1, 1), activation=None, use_bias = True):\n",
    "        super(SymAntiConv2D, self).__init__()\n",
    "        self.filters = filters\n",
    "        self.kernel_size = kernel_size\n",
    "        self.activation = activation\n",
    "        self.padding = padding\n",
    "        self.kernel_initializer = tf.initializers.GlorotUniform(seed=42)\n",
    "        self.bias_initializer = tf.initializers.Zeros()\n",
    "        self.strides = strides\n",
    "        self.use_bias = use_bias\n",
    "        self.w = None\n",
    "        self.b = None\n",
    "\n",
    "    def build(self, input_shape):\n",
    "        *_, n_channels = input_shape\n",
    "        self.w = tf.Variable(\n",
    "            initial_value=self.kernel_initializer(shape=(*self.kernel_size,\n",
    "                                                         n_channels,\n",
    "                                                         self.filters),\n",
    "                                 dtype='float32'), trainable=True)\n",
    "        \n",
    "        if self.use_bias:\n",
    "            self.b_sym = tf.Variable(\n",
    "                initial_value=self.bias_initializer(shape=(self.filters,), \n",
    "                                                    dtype='float32'),\n",
    "                trainable=True)\n",
    "\n",
    "            self.b_anti = tf.Variable(\n",
    "                initial_value=self.bias_initializer(shape=(self.filters,), \n",
    "                                                    dtype='float32'),\n",
    "                trainable=True)\n",
    "\n",
    "    def call(self, inputs, training=None):\n",
    "\n",
    "        filters = tf.reshape(self.w, (3,3,self.w.shape[-1]*self.w.shape[-2]))\n",
    "        mat_flip_x = flip_left_right(filters)\n",
    "        mat_flip_y = flip_up_down(filters)\n",
    "\n",
    "        mat_flip_xy = flip_left_right(flip_up_down(filters))\n",
    "\n",
    "        sum = filters + mat_flip_x + mat_flip_y + mat_flip_xy\n",
    "        mat_sum_rot_90 = rot90(sum)\n",
    "\n",
    "        sym_f = (sum + mat_sum_rot_90) / 8\n",
    "        anti_f = filters-sym_f\n",
    "\n",
    "        w_sym = tf.reshape(sym_f, self.w.shape)\n",
    "        w_anti = tf.reshape(anti_f, self.w.shape)\n",
    "\n",
    "        x_sym =  tf.nn.conv2d(inputs, filters=w_sym, strides=self.strides, \n",
    "                          padding=self.padding)\n",
    "        x_anti = tf.nn.conv2d(inputs, filters=w_anti, strides=self.strides, \n",
    "                          padding=self.padding)\n",
    "        if self.use_bias:\n",
    "            x_sym = x_sym + self.b_sym\n",
    "            x_anti = x_anti + self.b_anti\n",
    "\n",
    "        x_sym = self.activation(x_sym)\n",
    "        x_anti = self.activation(x_anti)\n",
    "\n",
    "        return [x_sym, x_anti]\n"
   ]
  },
  {
   "cell_type": "code",
   "execution_count": 7,
   "metadata": {},
   "outputs": [
    {
     "name": "stdout",
     "output_type": "stream",
     "text": [
      "Model: \"model_1\"\n",
      "__________________________________________________________________________________________________\n",
      " Layer (type)                   Output Shape         Param #     Connected to                     \n",
      "==================================================================================================\n",
      " input_2 (InputLayer)           [(None, 32, 32, 3)]  0           []                               \n",
      "                                                                                                  \n",
      " sym_anti_conv2d_9 (SymAntiConv  [(None, 32, 32, 32)  928        ['input_2[0][0]']                \n",
      " 2D)                            , (None, 32, 32, 32                                               \n",
      "                                )]                                                                \n",
      "                                                                                                  \n",
      " sym_anti_conv2d_10 (SymAntiCon  [(None, 32, 32, 32)  9280       ['sym_anti_conv2d_9[0][0]']      \n",
      " v2D)                           , (None, 32, 32, 32                                               \n",
      "                                )]                                                                \n",
      "                                                                                                  \n",
      " sym_anti_conv2d_11 (SymAntiCon  [(None, 32, 32, 32)  9280       ['sym_anti_conv2d_10[0][0]']     \n",
      " v2D)                           , (None, 32, 32, 32                                               \n",
      "                                )]                                                                \n",
      "                                                                                                  \n",
      " lambda_3 (Lambda)              (None, 32, 32, 1)    0           ['sym_anti_conv2d_11[0][1]']     \n",
      "                                                                                                  \n",
      " concatenate_3 (Concatenate)    (None, 32, 32, 33)   0           ['sym_anti_conv2d_11[0][0]',     \n",
      "                                                                  'lambda_3[0][0]']               \n",
      "                                                                                                  \n",
      " max_pooling2d_2 (MaxPooling2D)  (None, 16, 16, 33)  0           ['concatenate_3[0][0]']          \n",
      "                                                                                                  \n",
      " sym_anti_conv2d_12 (SymAntiCon  [(None, 16, 16, 32)  9568       ['max_pooling2d_2[0][0]']        \n",
      " v2D)                           , (None, 16, 16, 32                                               \n",
      "                                )]                                                                \n",
      "                                                                                                  \n",
      " sym_anti_conv2d_13 (SymAntiCon  [(None, 16, 16, 32)  9280       ['sym_anti_conv2d_12[0][0]']     \n",
      " v2D)                           , (None, 16, 16, 32                                               \n",
      "                                )]                                                                \n",
      "                                                                                                  \n",
      " sym_anti_conv2d_14 (SymAntiCon  [(None, 16, 16, 32)  9280       ['sym_anti_conv2d_13[0][0]']     \n",
      " v2D)                           , (None, 16, 16, 32                                               \n",
      "                                )]                                                                \n",
      "                                                                                                  \n",
      " lambda_4 (Lambda)              (None, 16, 16, 1)    0           ['sym_anti_conv2d_14[0][1]']     \n",
      "                                                                                                  \n",
      " concatenate_4 (Concatenate)    (None, 16, 16, 33)   0           ['sym_anti_conv2d_14[0][0]',     \n",
      "                                                                  'lambda_4[0][0]']               \n",
      "                                                                                                  \n",
      " max_pooling2d_3 (MaxPooling2D)  (None, 8, 8, 33)    0           ['concatenate_4[0][0]']          \n",
      "                                                                                                  \n",
      " sym_anti_conv2d_15 (SymAntiCon  [(None, 8, 8, 64),  19136       ['max_pooling2d_3[0][0]']        \n",
      " v2D)                            (None, 8, 8, 64)]                                                \n",
      "                                                                                                  \n",
      " sym_anti_conv2d_16 (SymAntiCon  [(None, 8, 8, 32),  18496       ['sym_anti_conv2d_15[0][0]']     \n",
      " v2D)                            (None, 8, 8, 32)]                                                \n",
      "                                                                                                  \n",
      " sym_anti_conv2d_17 (SymAntiCon  [(None, 8, 8, 32),  9280        ['sym_anti_conv2d_16[0][0]']     \n",
      " v2D)                            (None, 8, 8, 32)]                                                \n",
      "                                                                                                  \n",
      " lambda_5 (Lambda)              (None, 8, 8, 1)      0           ['sym_anti_conv2d_17[0][1]']     \n",
      "                                                                                                  \n",
      " concatenate_5 (Concatenate)    (None, 8, 8, 33)     0           ['sym_anti_conv2d_17[0][0]',     \n",
      "                                                                  'lambda_5[0][0]']               \n",
      "                                                                                                  \n",
      " flatten_1 (Flatten)            (None, 2112)         0           ['concatenate_5[0][0]']          \n",
      "                                                                                                  \n",
      " dense_2 (Dense)                (None, 1024)         2163712     ['flatten_1[0][0]']              \n",
      "                                                                                                  \n",
      " dense_3 (Dense)                (None, 100)          102500      ['dense_2[0][0]']                \n",
      "                                                                                                  \n",
      "==================================================================================================\n",
      "Total params: 2,360,740\n",
      "Trainable params: 2,360,740\n",
      "Non-trainable params: 0\n",
      "__________________________________________________________________________________________________\n"
     ]
    }
   ],
   "source": [
    "from tkinter import S\n",
    "\n",
    "\n",
    "input_net = Input((32, 32, 3))\n",
    "\n",
    "s, a = SymAntiConv2D(filters=32, activation=tf.nn.relu, padding='SAME')(input_net)\n",
    "s, _ = SymAntiConv2D(filters=32, activation=tf.nn.relu, padding='SAME')(s)\n",
    "s, _ = SymAntiConv2D(filters=32, activation=tf.nn.relu, padding='SAME')(s)\n",
    "y = (Concatenate()([s, Lambda(lambda x: tf.math.reduce_max(x, axis=-1 , keepdims=True))(a)]))\n",
    "y = layers.MaxPooling2D(pool_size=(2, 2))(y) \n",
    "\n",
    "s, a = SymAntiConv2D(filters=32, activation=tf.nn.relu, padding='SAME')(y)\n",
    "s, _ = SymAntiConv2D(filters=32, activation=tf.nn.relu, padding='SAME')(s)\n",
    "s, _ = SymAntiConv2D(filters=32, activation=tf.nn.relu, padding='SAME')(s)\n",
    "y = (Concatenate()([s, Lambda(lambda x: tf.math.reduce_max(x, axis=-1 , keepdims=True))(a)]))\n",
    "y = layers.MaxPooling2D(pool_size=(2, 2))(y) \n",
    "\n",
    "s, a = SymAntiConv2D(filters=64, activation=tf.nn.relu, padding='SAME')(y)\n",
    "s, _ = SymAntiConv2D(filters=32, activation=tf.nn.relu, padding='SAME')(s)\n",
    "s, _ = SymAntiConv2D(filters=32, activation=tf.nn.relu, padding='SAME')(s)\n",
    "y = (Concatenate()([s, Lambda(lambda x: tf.math.reduce_max(x, axis=-1 , keepdims=True))(a)]))\n",
    "\n",
    "\n",
    "y = layers.Flatten()(y)\n",
    "y = layers.Dense(1024, activation=\"relu\")(y)\n",
    "output_net  = layers.Dense(100, activation='softmax')(y)\n",
    "\n",
    "model = Model(inputs = input_net, outputs = output_net)\n",
    "model.summary()\n"
   ]
  },
  {
   "cell_type": "code",
   "execution_count": 8,
   "metadata": {},
   "outputs": [],
   "source": [
    "batch_size = 128\n",
    "epochs = 5\n",
    "model.compile(loss=tf.keras.losses.CategoricalCrossentropy(), optimizer=\"adam\", metrics=[\"accuracy\"])\n",
    "\n"
   ]
  },
  {
   "cell_type": "code",
   "execution_count": 9,
   "metadata": {},
   "outputs": [
    {
     "name": "stdout",
     "output_type": "stream",
     "text": [
      "x_train shape: (50000, 32, 32, 3)\n",
      "50000 train samples\n",
      "10000 test samples\n"
     ]
    },
    {
     "data": {
      "text/plain": [
       "<matplotlib.image.AxesImage at 0x1b4dc3b3cc8>"
      ]
     },
     "execution_count": 9,
     "metadata": {},
     "output_type": "execute_result"
    },
    {
     "data": {
      "image/png": "[encoded data removed]",
      "text/plain": [
       "<Figure size 432x288 with 1 Axes>"
      ]
     },
     "metadata": {
      "needs_background": "light"
     },
     "output_type": "display_data"
    }
   ],
   "source": [
    "num_classes = 100\n",
    "input_shape = (32, 32, 3)\n",
    "\n",
    "# Load the data and split it between train and test sets\n",
    "(x_train, y_train), (x_test, y_test) = keras.datasets.cifar100.load_data()\n",
    "\n",
    "\n",
    "\n",
    "# Scale images to the [0, 1] range\n",
    "x_train = x_train.astype(\"float32\") / 255\n",
    "x_test = x_test.astype(\"float32\") / 255\n",
    "# Make sure images have shape (28, 28, 1)\n",
    "#x_train = np.expand_dims(x_train, -1)\n",
    "#x_test = np.expand_dims(x_test, -1)\n",
    "print(\"x_train shape:\", x_train.shape)\n",
    "print(x_train.shape[0], \"train samples\")\n",
    "print(x_test.shape[0], \"test samples\")\n",
    "\n",
    "# convert class vectors to binary class matrices\n",
    "y_train = keras.utils.to_categorical(y_train, num_classes)\n",
    "y_test = keras.utils.to_categorical(y_test, num_classes)\n",
    "\n",
    "plt.imshow(x_train[0,:,:,:])\n"
   ]
  },
  {
   "cell_type": "code",
   "execution_count": 10,
   "metadata": {},
   "outputs": [],
   "source": [
    "def rotateDataset(x,y, maxRot = 360, h=28, w=28, batch_size=100):\n",
    "    datagen = ImageDataGenerator(rotation_range=maxRot)\n",
    "    # fit the generator\n",
    "    datagen.fit(x.reshape(x.shape[0], 32, 32, 3))\n",
    "    #out = datagen.flow(x.reshape(x.shape[0], h, w, 1), y.reshape(y.shape[0], -1), batch_size=batch_size)\n",
    "\n",
    "    out = datagen.flow(x.reshape(x.shape[0], h, w, 3),  y.reshape(y.shape[0], -1), batch_size=batch_size)\n",
    "\n",
    "\n",
    "    return  out"
   ]
  },
  {
   "cell_type": "code",
   "execution_count": 11,
   "metadata": {},
   "outputs": [
    {
     "name": "stdout",
     "output_type": "stream",
     "text": [
      "(50000, 100)\n"
     ]
    }
   ],
   "source": [
    "print(y_train.shape)"
   ]
  },
  {
   "cell_type": "code",
   "execution_count": 12,
   "metadata": {},
   "outputs": [
    {
     "name": "stdout",
     "output_type": "stream",
     "text": [
      "Epoch 1/5\n",
      "WARNING:tensorflow:Gradients do not exist for variables ['sym_anti_conv2d_9/Variable:0', 'sym_anti_conv2d_10/Variable:0', 'sym_anti_conv2d_12/Variable:0', 'sym_anti_conv2d_13/Variable:0', 'sym_anti_conv2d_15/Variable:0', 'sym_anti_conv2d_16/Variable:0'] when minimizing the loss. If you're using `model.compile()`, did you forget to provide a `loss`argument?\n",
      "WARNING:tensorflow:Gradients do not exist for variables ['sym_anti_conv2d_9/Variable:0', 'sym_anti_conv2d_10/Variable:0', 'sym_anti_conv2d_12/Variable:0', 'sym_anti_conv2d_13/Variable:0', 'sym_anti_conv2d_15/Variable:0', 'sym_anti_conv2d_16/Variable:0'] when minimizing the loss. If you're using `model.compile()`, did you forget to provide a `loss`argument?\n",
      "391/391 [==============================] - 49s 99ms/step - loss: 4.0930 - accuracy: 0.0641\n",
      "Epoch 2/5\n",
      "391/391 [==============================] - 38s 96ms/step - loss: 3.6292 - accuracy: 0.1376\n",
      "Epoch 3/5\n",
      "391/391 [==============================] - 38s 97ms/step - loss: 3.3659 - accuracy: 0.1861\n",
      "Epoch 4/5\n",
      "391/391 [==============================] - 38s 97ms/step - loss: 3.1628 - accuracy: 0.2257\n",
      "Epoch 5/5\n",
      "200/391 [==============>...............] - ETA: 19s - loss: 3.0102 - accuracy: 0.2537"
     ]
    },
    {
     "ename": "KeyboardInterrupt",
     "evalue": "",
     "output_type": "error",
     "traceback": [
      "\u001b[1;31m---------------------------------------------------------------------------\u001b[0m",
      "\u001b[1;31mKeyboardInterrupt\u001b[0m                         Traceback (most recent call last)",
      "\u001b[1;32m~\\AppData\\Local\\Temp\\ipykernel_9420\\3515642177.py\u001b[0m in \u001b[0;36m<module>\u001b[1;34m\u001b[0m\n\u001b[1;32m----> 1\u001b[1;33m \u001b[0mmodel\u001b[0m\u001b[1;33m.\u001b[0m\u001b[0mfit\u001b[0m\u001b[1;33m(\u001b[0m\u001b[0mx_train\u001b[0m\u001b[1;33m,\u001b[0m \u001b[0my_train\u001b[0m\u001b[1;33m,\u001b[0m \u001b[0mbatch_size\u001b[0m\u001b[1;33m=\u001b[0m\u001b[0mbatch_size\u001b[0m\u001b[1;33m,\u001b[0m \u001b[0mepochs\u001b[0m\u001b[1;33m=\u001b[0m\u001b[0mepochs\u001b[0m\u001b[1;33m)\u001b[0m \u001b[1;31m#, validation_data=rotateDataset(x_train, y_train, h=32, w=32))\u001b[0m\u001b[1;33m\u001b[0m\u001b[1;33m\u001b[0m\u001b[0m\n\u001b[0m",
      "\u001b[1;32mc:\\Users\\AN46710\\Anaconda3\\envs\\masters\\lib\\site-packages\\keras\\utils\\traceback_utils.py\u001b[0m in \u001b[0;36merror_handler\u001b[1;34m(*args, **kwargs)\u001b[0m\n\u001b[0;32m     62\u001b[0m     \u001b[0mfiltered_tb\u001b[0m \u001b[1;33m=\u001b[0m \u001b[1;32mNone\u001b[0m\u001b[1;33m\u001b[0m\u001b[1;33m\u001b[0m\u001b[0m\n\u001b[0;32m     63\u001b[0m     \u001b[1;32mtry\u001b[0m\u001b[1;33m:\u001b[0m\u001b[1;33m\u001b[0m\u001b[1;33m\u001b[0m\u001b[0m\n\u001b[1;32m---> 64\u001b[1;33m       \u001b[1;32mreturn\u001b[0m \u001b[0mfn\u001b[0m\u001b[1;33m(\u001b[0m\u001b[1;33m*\u001b[0m\u001b[0margs\u001b[0m\u001b[1;33m,\u001b[0m \u001b[1;33m**\u001b[0m\u001b[0mkwargs\u001b[0m\u001b[1;33m)\u001b[0m\u001b[1;33m\u001b[0m\u001b[1;33m\u001b[0m\u001b[0m\n\u001b[0m\u001b[0;32m     65\u001b[0m     \u001b[1;32mexcept\u001b[0m \u001b[0mException\u001b[0m \u001b[1;32mas\u001b[0m \u001b[0me\u001b[0m\u001b[1;33m:\u001b[0m  \u001b[1;31m# pylint: disable=broad-except\u001b[0m\u001b[1;33m\u001b[0m\u001b[1;33m\u001b[0m\u001b[0m\n\u001b[0;32m     66\u001b[0m       \u001b[0mfiltered_tb\u001b[0m \u001b[1;33m=\u001b[0m \u001b[0m_process_traceback_frames\u001b[0m\u001b[1;33m(\u001b[0m\u001b[0me\u001b[0m\u001b[1;33m.\u001b[0m\u001b[0m__traceback__\u001b[0m\u001b[1;33m)\u001b[0m\u001b[1;33m\u001b[0m\u001b[1;33m\u001b[0m\u001b[0m\n",
      "\u001b[1;32mc:\\Users\\AN46710\\Anaconda3\\envs\\masters\\lib\\site-packages\\keras\\engine\\training.py\u001b[0m in \u001b[0;36mfit\u001b[1;34m(self, x, y, batch_size, epochs, verbose, callbacks, validation_split, validation_data, shuffle, class_weight, sample_weight, initial_epoch, steps_per_epoch, validation_steps, validation_batch_size, validation_freq, max_queue_size, workers, use_multiprocessing)\u001b[0m\n\u001b[0;32m   1407\u001b[0m                 _r=1):\n\u001b[0;32m   1408\u001b[0m               \u001b[0mcallbacks\u001b[0m\u001b[1;33m.\u001b[0m\u001b[0mon_train_batch_begin\u001b[0m\u001b[1;33m(\u001b[0m\u001b[0mstep\u001b[0m\u001b[1;33m)\u001b[0m\u001b[1;33m\u001b[0m\u001b[1;33m\u001b[0m\u001b[0m\n\u001b[1;32m-> 1409\u001b[1;33m               \u001b[0mtmp_logs\u001b[0m \u001b[1;33m=\u001b[0m \u001b[0mself\u001b[0m\u001b[1;33m.\u001b[0m\u001b[0mtrain_function\u001b[0m\u001b[1;33m(\u001b[0m\u001b[0miterator\u001b[0m\u001b[1;33m)\u001b[0m\u001b[1;33m\u001b[0m\u001b[1;33m\u001b[0m\u001b[0m\n\u001b[0m\u001b[0;32m   1410\u001b[0m               \u001b[1;32mif\u001b[0m \u001b[0mdata_handler\u001b[0m\u001b[1;33m.\u001b[0m\u001b[0mshould_sync\u001b[0m\u001b[1;33m:\u001b[0m\u001b[1;33m\u001b[0m\u001b[1;33m\u001b[0m\u001b[0m\n\u001b[0;32m   1411\u001b[0m                 \u001b[0mcontext\u001b[0m\u001b[1;33m.\u001b[0m\u001b[0masync_wait\u001b[0m\u001b[1;33m(\u001b[0m\u001b[1;33m)\u001b[0m\u001b[1;33m\u001b[0m\u001b[1;33m\u001b[0m\u001b[0m\n",
      "\u001b[1;32mc:\\Users\\AN46710\\Anaconda3\\envs\\masters\\lib\\site-packages\\tensorflow\\python\\util\\traceback_utils.py\u001b[0m in \u001b[0;36merror_handler\u001b[1;34m(*args, **kwargs)\u001b[0m\n\u001b[0;32m    148\u001b[0m     \u001b[0mfiltered_tb\u001b[0m \u001b[1;33m=\u001b[0m \u001b[1;32mNone\u001b[0m\u001b[1;33m\u001b[0m\u001b[1;33m\u001b[0m\u001b[0m\n\u001b[0;32m    149\u001b[0m     \u001b[1;32mtry\u001b[0m\u001b[1;33m:\u001b[0m\u001b[1;33m\u001b[0m\u001b[1;33m\u001b[0m\u001b[0m\n\u001b[1;32m--> 150\u001b[1;33m       \u001b[1;32mreturn\u001b[0m \u001b[0mfn\u001b[0m\u001b[1;33m(\u001b[0m\u001b[1;33m*\u001b[0m\u001b[0margs\u001b[0m\u001b[1;33m,\u001b[0m \u001b[1;33m**\u001b[0m\u001b[0mkwargs\u001b[0m\u001b[1;33m)\u001b[0m\u001b[1;33m\u001b[0m\u001b[1;33m\u001b[0m\u001b[0m\n\u001b[0m\u001b[0;32m    151\u001b[0m     \u001b[1;32mexcept\u001b[0m \u001b[0mException\u001b[0m \u001b[1;32mas\u001b[0m \u001b[0me\u001b[0m\u001b[1;33m:\u001b[0m\u001b[1;33m\u001b[0m\u001b[1;33m\u001b[0m\u001b[0m\n\u001b[0;32m    152\u001b[0m       \u001b[0mfiltered_tb\u001b[0m \u001b[1;33m=\u001b[0m \u001b[0m_process_traceback_frames\u001b[0m\u001b[1;33m(\u001b[0m\u001b[0me\u001b[0m\u001b[1;33m.\u001b[0m\u001b[0m__traceback__\u001b[0m\u001b[1;33m)\u001b[0m\u001b[1;33m\u001b[0m\u001b[1;33m\u001b[0m\u001b[0m\n",
      "\u001b[1;32mc:\\Users\\AN46710\\Anaconda3\\envs\\masters\\lib\\site-packages\\tensorflow\\python\\eager\\def_function.py\u001b[0m in \u001b[0;36m__call__\u001b[1;34m(self, *args, **kwds)\u001b[0m\n\u001b[0;32m    913\u001b[0m \u001b[1;33m\u001b[0m\u001b[0m\n\u001b[0;32m    914\u001b[0m       \u001b[1;32mwith\u001b[0m \u001b[0mOptionalXlaContext\u001b[0m\u001b[1;33m(\u001b[0m\u001b[0mself\u001b[0m\u001b[1;33m.\u001b[0m\u001b[0m_jit_compile\u001b[0m\u001b[1;33m)\u001b[0m\u001b[1;33m:\u001b[0m\u001b[1;33m\u001b[0m\u001b[1;33m\u001b[0m\u001b[0m\n\u001b[1;32m--> 915\u001b[1;33m         \u001b[0mresult\u001b[0m \u001b[1;33m=\u001b[0m \u001b[0mself\u001b[0m\u001b[1;33m.\u001b[0m\u001b[0m_call\u001b[0m\u001b[1;33m(\u001b[0m\u001b[1;33m*\u001b[0m\u001b[0margs\u001b[0m\u001b[1;33m,\u001b[0m \u001b[1;33m**\u001b[0m\u001b[0mkwds\u001b[0m\u001b[1;33m)\u001b[0m\u001b[1;33m\u001b[0m\u001b[1;33m\u001b[0m\u001b[0m\n\u001b[0m\u001b[0;32m    916\u001b[0m \u001b[1;33m\u001b[0m\u001b[0m\n\u001b[0;32m    917\u001b[0m       \u001b[0mnew_tracing_count\u001b[0m \u001b[1;33m=\u001b[0m \u001b[0mself\u001b[0m\u001b[1;33m.\u001b[0m\u001b[0mexperimental_get_tracing_count\u001b[0m\u001b[1;33m(\u001b[0m\u001b[1;33m)\u001b[0m\u001b[1;33m\u001b[0m\u001b[1;33m\u001b[0m\u001b[0m\n",
      "\u001b[1;32mc:\\Users\\AN46710\\Anaconda3\\envs\\masters\\lib\\site-packages\\tensorflow\\python\\eager\\def_function.py\u001b[0m in \u001b[0;36m_call\u001b[1;34m(self, *args, **kwds)\u001b[0m\n\u001b[0;32m    945\u001b[0m       \u001b[1;31m# In this case we have created variables on the first call, so we run the\u001b[0m\u001b[1;33m\u001b[0m\u001b[1;33m\u001b[0m\u001b[1;33m\u001b[0m\u001b[0m\n\u001b[0;32m    946\u001b[0m       \u001b[1;31m# defunned version which is guaranteed to never create variables.\u001b[0m\u001b[1;33m\u001b[0m\u001b[1;33m\u001b[0m\u001b[1;33m\u001b[0m\u001b[0m\n\u001b[1;32m--> 947\u001b[1;33m       \u001b[1;32mreturn\u001b[0m \u001b[0mself\u001b[0m\u001b[1;33m.\u001b[0m\u001b[0m_stateless_fn\u001b[0m\u001b[1;33m(\u001b[0m\u001b[1;33m*\u001b[0m\u001b[0margs\u001b[0m\u001b[1;33m,\u001b[0m \u001b[1;33m**\u001b[0m\u001b[0mkwds\u001b[0m\u001b[1;33m)\u001b[0m  \u001b[1;31m# pylint: disable=not-callable\u001b[0m\u001b[1;33m\u001b[0m\u001b[1;33m\u001b[0m\u001b[0m\n\u001b[0m\u001b[0;32m    948\u001b[0m     \u001b[1;32melif\u001b[0m \u001b[0mself\u001b[0m\u001b[1;33m.\u001b[0m\u001b[0m_stateful_fn\u001b[0m \u001b[1;32mis\u001b[0m \u001b[1;32mnot\u001b[0m \u001b[1;32mNone\u001b[0m\u001b[1;33m:\u001b[0m\u001b[1;33m\u001b[0m\u001b[1;33m\u001b[0m\u001b[0m\n\u001b[0;32m    949\u001b[0m       \u001b[1;31m# Release the lock early so that multiple threads can perform the call\u001b[0m\u001b[1;33m\u001b[0m\u001b[1;33m\u001b[0m\u001b[1;33m\u001b[0m\u001b[0m\n",
      "\u001b[1;32mc:\\Users\\AN46710\\Anaconda3\\envs\\masters\\lib\\site-packages\\tensorflow\\python\\eager\\function.py\u001b[0m in \u001b[0;36m__call__\u001b[1;34m(self, *args, **kwargs)\u001b[0m\n\u001b[0;32m   2452\u001b[0m        filtered_flat_args) = self._maybe_define_function(args, kwargs)\n\u001b[0;32m   2453\u001b[0m     return graph_function._call_flat(\n\u001b[1;32m-> 2454\u001b[1;33m         filtered_flat_args, captured_inputs=graph_function.captured_inputs)  # pylint: disable=protected-access\n\u001b[0m\u001b[0;32m   2455\u001b[0m \u001b[1;33m\u001b[0m\u001b[0m\n\u001b[0;32m   2456\u001b[0m   \u001b[1;33m@\u001b[0m\u001b[0mproperty\u001b[0m\u001b[1;33m\u001b[0m\u001b[1;33m\u001b[0m\u001b[0m\n",
      "\u001b[1;32mc:\\Users\\AN46710\\Anaconda3\\envs\\masters\\lib\\site-packages\\tensorflow\\python\\eager\\function.py\u001b[0m in \u001b[0;36m_call_flat\u001b[1;34m(self, args, captured_inputs, cancellation_manager)\u001b[0m\n\u001b[0;32m   1859\u001b[0m       \u001b[1;31m# No tape is watching; skip to running the function.\u001b[0m\u001b[1;33m\u001b[0m\u001b[1;33m\u001b[0m\u001b[1;33m\u001b[0m\u001b[0m\n\u001b[0;32m   1860\u001b[0m       return self._build_call_outputs(self._inference_function.call(\n\u001b[1;32m-> 1861\u001b[1;33m           ctx, args, cancellation_manager=cancellation_manager))\n\u001b[0m\u001b[0;32m   1862\u001b[0m     forward_backward = self._select_forward_and_backward_functions(\n\u001b[0;32m   1863\u001b[0m         \u001b[0margs\u001b[0m\u001b[1;33m,\u001b[0m\u001b[1;33m\u001b[0m\u001b[1;33m\u001b[0m\u001b[0m\n",
      "\u001b[1;32mc:\\Users\\AN46710\\Anaconda3\\envs\\masters\\lib\\site-packages\\tensorflow\\python\\eager\\function.py\u001b[0m in \u001b[0;36mcall\u001b[1;34m(self, ctx, args, cancellation_manager)\u001b[0m\n\u001b[0;32m    500\u001b[0m               \u001b[0minputs\u001b[0m\u001b[1;33m=\u001b[0m\u001b[0margs\u001b[0m\u001b[1;33m,\u001b[0m\u001b[1;33m\u001b[0m\u001b[1;33m\u001b[0m\u001b[0m\n\u001b[0;32m    501\u001b[0m               \u001b[0mattrs\u001b[0m\u001b[1;33m=\u001b[0m\u001b[0mattrs\u001b[0m\u001b[1;33m,\u001b[0m\u001b[1;33m\u001b[0m\u001b[1;33m\u001b[0m\u001b[0m\n\u001b[1;32m--> 502\u001b[1;33m               ctx=ctx)\n\u001b[0m\u001b[0;32m    503\u001b[0m         \u001b[1;32melse\u001b[0m\u001b[1;33m:\u001b[0m\u001b[1;33m\u001b[0m\u001b[1;33m\u001b[0m\u001b[0m\n\u001b[0;32m    504\u001b[0m           outputs = execute.execute_with_cancellation(\n",
      "\u001b[1;32mc:\\Users\\AN46710\\Anaconda3\\envs\\masters\\lib\\site-packages\\tensorflow\\python\\eager\\execute.py\u001b[0m in \u001b[0;36mquick_execute\u001b[1;34m(op_name, num_outputs, inputs, attrs, ctx, name)\u001b[0m\n\u001b[0;32m     53\u001b[0m     \u001b[0mctx\u001b[0m\u001b[1;33m.\u001b[0m\u001b[0mensure_initialized\u001b[0m\u001b[1;33m(\u001b[0m\u001b[1;33m)\u001b[0m\u001b[1;33m\u001b[0m\u001b[1;33m\u001b[0m\u001b[0m\n\u001b[0;32m     54\u001b[0m     tensors = pywrap_tfe.TFE_Py_Execute(ctx._handle, device_name, op_name,\n\u001b[1;32m---> 55\u001b[1;33m                                         inputs, attrs, num_outputs)\n\u001b[0m\u001b[0;32m     56\u001b[0m   \u001b[1;32mexcept\u001b[0m \u001b[0mcore\u001b[0m\u001b[1;33m.\u001b[0m\u001b[0m_NotOkStatusException\u001b[0m \u001b[1;32mas\u001b[0m \u001b[0me\u001b[0m\u001b[1;33m:\u001b[0m\u001b[1;33m\u001b[0m\u001b[1;33m\u001b[0m\u001b[0m\n\u001b[0;32m     57\u001b[0m     \u001b[1;32mif\u001b[0m \u001b[0mname\u001b[0m \u001b[1;32mis\u001b[0m \u001b[1;32mnot\u001b[0m \u001b[1;32mNone\u001b[0m\u001b[1;33m:\u001b[0m\u001b[1;33m\u001b[0m\u001b[1;33m\u001b[0m\u001b[0m\n",
      "\u001b[1;31mKeyboardInterrupt\u001b[0m: "
     ]
    }
   ],
   "source": [
    "model.fit(x_train, y_train, batch_size=batch_size, epochs=epochs) #, validation_data=rotateDataset(x_train, y_train, h=32, w=32))\n"
   ]
  },
  {
   "cell_type": "code",
   "execution_count": 35,
   "metadata": {},
   "outputs": [
    {
     "name": "stdout",
     "output_type": "stream",
     "text": [
      "[[0. 0. 0. 0. 0. 0. 0. 0. 0. 0. 0. 0. 0. 0. 0. 0. 0. 0. 0. 0. 0. 0. 0. 0.\n",
      "  0. 0. 0. 0. 0. 0. 0. 0. 0. 0. 0. 0. 0. 0. 0. 0. 0. 0. 0. 0. 0. 0. 0. 0.\n",
      "  0. 0. 0. 0. 0. 0. 0. 0. 0. 0. 0. 0. 0. 0. 0. 0. 0. 0. 0. 0. 0. 0. 0. 0.\n",
      "  0. 0. 0. 0. 0. 0. 0. 0. 0. 0. 1. 0. 0. 0. 0. 0. 0. 0. 0. 0. 0. 0. 0. 0.\n",
      "  0. 0. 0. 0.]]\n",
      "1/1 [==============================] - 0s 27ms/step\n",
      "82 82\n",
      "(1, 8, 8, 33)\n",
      "(1, 32, 32, 3)\n"
     ]
    },
    {
     "data": {
      "image/png": "[encoded data removed]",
      "text/plain": [
       "<Figure size 432x288 with 1 Axes>"
      ]
     },
     "metadata": {
      "needs_background": "light"
     },
     "output_type": "display_data"
    },
    {
     "data": {
      "image/png": "[encoded data removed]",
      "text/plain": [
       "<Figure size 432x288 with 1 Axes>"
      ]
     },
     "metadata": {
      "needs_background": "light"
     },
     "output_type": "display_data"
    }
   ],
   "source": [
    "get_layer_output = K.function([model.input], model.layers[-1].output)\n",
    "\n",
    "for X,Y in rotateDataset(x_test,y_test, batch_size=1, h=32, w=32, maxRot=360):\n",
    "    print(Y)\n",
    "    print(np.argmax(Y), np.argmax(model.predict(X)))\n",
    "    #plt.imshow(X.reshape(28,28), cmap='gray_r')  \n",
    "    plt.figure(1)  \n",
    "\n",
    "    get_layer_output = K.function([model.input], model.layers[-4].output)\n",
    "    layer_out = np.array(get_layer_output([X]))\n",
    "    print(layer_out.shape)\n",
    "    plt.imshow(np.mean(layer_out[0,:,:,:], axis=-1),  cmap='gray_r')   \n",
    "    #plt.figure(2) \n",
    "\n",
    "    #print(layer_out[0, :, : ,1 ].shape)\n",
    "    #plt.imshow(layer_out[0, :, : ,1 ],  cmap='gray_r')\n",
    "\n",
    "    plt.figure(3) \n",
    "\n",
    "    print(X.shape)\n",
    "    plt.imshow(X[0],  cmap='gray_r')\n",
    "    break"
   ]
  },
  {
   "cell_type": "code",
   "execution_count": null,
   "metadata": {},
   "outputs": [
    {
     "name": "stdout",
     "output_type": "stream",
     "text": [
      "(7, 7, 64)\n"
     ]
    },
    {
     "data": {
      "text/plain": [
       "TensorShape([7, 7, 1])"
      ]
     },
     "execution_count": 42,
     "metadata": {},
     "output_type": "execute_result"
    }
   ],
   "source": [
    "print(layer_out[0, :, :,:].shape)\n",
    "yy =  tf.math.reduce_sum(layer_out[0, :, :, :], axis=-1, keepdims=True)\n",
    "yy.shape\n"
   ]
  }
 ],
 "metadata": {
  "kernelspec": {
   "display_name": "Python 3.7.13 ('masters')",
   "language": "python",
   "name": "python3"
  },
  "language_info": {
   "codemirror_mode": {
    "name": "ipython",
    "version": 3
   },
   "file_extension": ".py",
   "mimetype": "text/x-python",
   "name": "python",
   "nbconvert_exporter": "python",
   "pygments_lexer": "ipython3",
   "version": "3.7.13"
  },
  "orig_nbformat": 4,
  "vscode": {
   "interpreter": {
    "hash": "4f2ff97d05f7ea74f9ad893ce0ef62de10b7e20c3f21fc0f5866920ae6ae88e7"
   }
  }
 },
 "nbformat": 4,
 "nbformat_minor": 2
}
