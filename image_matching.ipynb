{
 "cells": [
  {
   "cell_type": "code",
   "execution_count": 1,
   "metadata": {},
   "outputs": [],
   "source": [
    "import tensorflow as tf\n",
    "import os\n",
    "from os import listdir\n",
    "from os.path import isfile, join\n",
    "import pprint\n",
    "import matplotlib.pyplot as plt\n",
    "import matplotlib.image as image\n",
    "import numpy as np\n",
    "import cv2\n",
    "import matplotlib.pyplot as plt\n",
    "plt.rcParams['figure.figsize'] = [10, 10]"
   ]
  },
  {
   "cell_type": "code",
   "execution_count": 2,
   "metadata": {},
   "outputs": [],
   "source": [
    "from cnn_feature_extractor import CNNFeatureExtractor\n",
    "feat_extractor = CNNFeatureExtractor()\n",
    "sift = cv2.SIFT_create()"
   ]
  },
  {
   "cell_type": "code",
   "execution_count": 3,
   "metadata": {},
   "outputs": [],
   "source": [
    "\n",
    "import cv2\n",
    "def match_image(img, img_set):\n",
    "    img = feat_extractor.load_img(img, preprocess=True)\n",
    "    #img = cv2.imread(img , cv2.IMREAD_GRAYSCALE)\n",
    "    matched_imgs = []\n",
    "\n",
    "    # FLANN parameters\n",
    "    FLANN_INDEX_KDTREE = 0\n",
    "    index_params = dict(algorithm = FLANN_INDEX_KDTREE, trees = 5)\n",
    "    search_params = dict(checks=50)   # or pass empty dictionary\n",
    "\n",
    "    flann = cv2.FlannBasedMatcher(index_params,search_params)\n",
    "\n",
    "    kp1,des1 = feat_extractor.get_keypoints_and_descriptors(img)\n",
    "    #kp1, des1 = sift.detectAndCompute(img,None)\n",
    "\n",
    "    for imgB in img_set:\n",
    "        imgB_path = imgB\n",
    "        \n",
    "        imgB = feat_extractor.load_img(imgB, preprocess=True)\n",
    "        #imgB = cv2.imread(imgB , cv2.IMREAD_GRAYSCALE)\n",
    "\n",
    "        kp2,des2 = feat_extractor.get_keypoints_and_descriptors(imgB)\n",
    "        #kp2, des2 = sift.detectAndCompute(imgB,None)\n",
    "        matches = flann.knnMatch(des1,des2,k=2)\n",
    "\n",
    "        # ratio test as per Lowe's paper,\n",
    "        num_good_matches = 0\n",
    "        good_matches = []\n",
    "        for i,(m,n) in enumerate(matches):\n",
    "            if m.distance < .7 * n.distance:\n",
    "                good_matches.append(m)\n",
    "                num_good_matches+=1\n",
    "\n",
    "        matched_imgs.append((imgB_path, num_good_matches))\n",
    "        matched_imgs.sort(key=lambda x:x[1], reverse=True)\n",
    "            \n",
    "                    \n",
    "    return matched_imgs"
   ]
  },
  {
   "cell_type": "code",
   "execution_count": 4,
   "metadata": {},
   "outputs": [
    {
     "name": "stdout",
     "output_type": "stream",
     "text": [
      "[('./SYS809_projet2021_sequences1\\\\legumesB-00.jpg', 29),\n",
      " ('./SYS809_projet2021_sequences1\\\\legumesB-08.jpg', 13),\n",
      " ('./SYS809_projet2021_sequences1\\\\legumesB-07.jpg', 12),\n",
      " ('./SYS809_projet2021_sequences1\\\\legumesB-03.jpg', 11),\n",
      " ('./SYS809_projet2021_sequences1\\\\legumesB-06.jpg', 11),\n",
      " ('./SYS809_projet2021_sequences1\\\\legumesB-09.jpg', 9),\n",
      " ('./SYS809_projet2021_sequences1\\\\legumesB-02.jpg', 8),\n",
      " ('./SYS809_projet2021_sequences1\\\\legumesB-04.jpg', 5),\n",
      " ('./SYS809_projet2021_sequences1\\\\legumesB-01.jpg', 4),\n",
      " ('./SYS809_projet2021_sequences1\\\\legumesB-05.jpg', 3)]\n"
     ]
    }
   ],
   "source": [
    "img_dir = './SYS809_projet2021_sequences1'\n",
    "\n",
    "img_A = './SYS809_projet2021_sequences1/legumesA-00.jpg'\n",
    "img_list_B = [os.path.join(img_dir, f ) for f in listdir(img_dir) if f.startswith(\"legumesB\")] \n",
    "\n",
    "pprint.pprint(match_image(img_A, img_list_B ))"
   ]
  },
  {
   "cell_type": "markdown",
   "metadata": {},
   "source": [
    "As we can see, **legumesA-00.jpg** is found to have the most corresponding features to **legumesB-00.jpg**, which is indeed correct. "
   ]
  },
  {
   "cell_type": "markdown",
   "metadata": {},
   "source": [
    "# Demo 1 : Legumes"
   ]
  },
  {
   "cell_type": "code",
   "execution_count": 5,
   "metadata": {},
   "outputs": [
    {
     "ename": "KeyboardInterrupt",
     "evalue": "",
     "output_type": "error",
     "traceback": [
      "\u001b[1;31m---------------------------------------------------------------------------\u001b[0m",
      "\u001b[1;31mKeyboardInterrupt\u001b[0m                         Traceback (most recent call last)",
      "\u001b[1;32m~\\AppData\\Local\\Temp/ipykernel_11288/1256458335.py\u001b[0m in \u001b[0;36m<module>\u001b[1;34m\u001b[0m\n\u001b[0;32m     17\u001b[0m     \u001b[0max\u001b[0m\u001b[1;33m[\u001b[0m\u001b[1;36m0\u001b[0m\u001b[1;33m]\u001b[0m\u001b[1;33m[\u001b[0m\u001b[0mi\u001b[0m\u001b[1;33m]\u001b[0m\u001b[1;33m.\u001b[0m\u001b[0mget_yaxis\u001b[0m\u001b[1;33m(\u001b[0m\u001b[1;33m)\u001b[0m\u001b[1;33m.\u001b[0m\u001b[0mset_visible\u001b[0m\u001b[1;33m(\u001b[0m\u001b[1;32mFalse\u001b[0m\u001b[1;33m)\u001b[0m\u001b[1;33m\u001b[0m\u001b[1;33m\u001b[0m\u001b[0m\n\u001b[0;32m     18\u001b[0m \u001b[1;33m\u001b[0m\u001b[0m\n\u001b[1;32m---> 19\u001b[1;33m     \u001b[0mim_match\u001b[0m \u001b[1;33m=\u001b[0m \u001b[0mmatch_image\u001b[0m\u001b[1;33m(\u001b[0m\u001b[0mimg\u001b[0m\u001b[1;33m,\u001b[0m \u001b[0mimg_list_B\u001b[0m \u001b[1;33m)\u001b[0m\u001b[1;33m[\u001b[0m\u001b[1;36m0\u001b[0m\u001b[1;33m]\u001b[0m\u001b[1;33m[\u001b[0m\u001b[1;36m0\u001b[0m\u001b[1;33m]\u001b[0m\u001b[1;33m\u001b[0m\u001b[1;33m\u001b[0m\u001b[0m\n\u001b[0m\u001b[0;32m     20\u001b[0m     \u001b[0mname_match\u001b[0m \u001b[1;33m=\u001b[0m \u001b[0mos\u001b[0m\u001b[1;33m.\u001b[0m\u001b[0mpath\u001b[0m\u001b[1;33m.\u001b[0m\u001b[0mbasename\u001b[0m\u001b[1;33m(\u001b[0m\u001b[0mim_match\u001b[0m\u001b[1;33m)\u001b[0m\u001b[1;33m\u001b[0m\u001b[1;33m\u001b[0m\u001b[0m\n\u001b[0;32m     21\u001b[0m     \u001b[0mim_match\u001b[0m \u001b[1;33m=\u001b[0m  \u001b[0mimage\u001b[0m\u001b[1;33m.\u001b[0m\u001b[0mimread\u001b[0m\u001b[1;33m(\u001b[0m\u001b[0mim_match\u001b[0m\u001b[1;33m)\u001b[0m\u001b[1;33m\u001b[0m\u001b[1;33m\u001b[0m\u001b[0m\n",
      "\u001b[1;32m~\\AppData\\Local\\Temp/ipykernel_11288/177402971.py\u001b[0m in \u001b[0;36mmatch_image\u001b[1;34m(img, img_set)\u001b[0m\n\u001b[0;32m     23\u001b[0m         \u001b[0mkp2\u001b[0m\u001b[1;33m,\u001b[0m\u001b[0mdes2\u001b[0m \u001b[1;33m=\u001b[0m \u001b[0mfeat_extractor\u001b[0m\u001b[1;33m.\u001b[0m\u001b[0mget_keypoints_and_descriptors\u001b[0m\u001b[1;33m(\u001b[0m\u001b[0mimgB\u001b[0m\u001b[1;33m)\u001b[0m\u001b[1;33m\u001b[0m\u001b[1;33m\u001b[0m\u001b[0m\n\u001b[0;32m     24\u001b[0m         \u001b[1;31m#kp2, des2 = sift.detectAndCompute(imgB,None)\u001b[0m\u001b[1;33m\u001b[0m\u001b[1;33m\u001b[0m\u001b[0m\n\u001b[1;32m---> 25\u001b[1;33m         \u001b[0mmatches\u001b[0m \u001b[1;33m=\u001b[0m \u001b[0mflann\u001b[0m\u001b[1;33m.\u001b[0m\u001b[0mknnMatch\u001b[0m\u001b[1;33m(\u001b[0m\u001b[0mdes1\u001b[0m\u001b[1;33m,\u001b[0m\u001b[0mdes2\u001b[0m\u001b[1;33m,\u001b[0m\u001b[0mk\u001b[0m\u001b[1;33m=\u001b[0m\u001b[1;36m2\u001b[0m\u001b[1;33m)\u001b[0m\u001b[1;33m\u001b[0m\u001b[1;33m\u001b[0m\u001b[0m\n\u001b[0m\u001b[0;32m     26\u001b[0m \u001b[1;33m\u001b[0m\u001b[0m\n\u001b[0;32m     27\u001b[0m         \u001b[1;31m# ratio test as per Lowe's paper,\u001b[0m\u001b[1;33m\u001b[0m\u001b[1;33m\u001b[0m\u001b[0m\n",
      "\u001b[1;31mKeyboardInterrupt\u001b[0m: "
     ]
    }
   ],
   "source": [
    "img_dir = './SYS809_projet2021_sequences1'\n",
    "img_list_A = [os.path.join(img_dir, f ) for f in listdir(img_dir) if f.startswith(\"neigeA\")] \n",
    "img_list_B = [os.path.join(img_dir, f ) for f in listdir(img_dir) if f.startswith(\"neigeB\")] \n",
    "\n",
    "\n",
    "fig, ax = plt.subplots(2, len(img_list_A), figsize=(15, 7.5))\n",
    "\n",
    "\n",
    "for i, img in enumerate(img_list_A):\n",
    "    #fig, axes = plt.subplots(nrows=2, ncols=len(img_list_A))\n",
    "    #fig.tight_layout() # Or equivalently,  \"plt.tight_layout()\"\n",
    "\n",
    "    im_A = image.imread(img)\n",
    "    name_A = os.path.basename(img)\n",
    "    ax[0][i].imshow(im_A)\n",
    "    ax[0][i].set_title(name_A)\n",
    "    ax[0][i].get_yaxis().set_visible(False)\n",
    "\n",
    "    im_match = match_image(img, img_list_B )[0][0]\n",
    "    name_match = os.path.basename(im_match)\n",
    "    im_match =  image.imread(im_match)\n",
    "    ax[1][i].imshow(im_match)\n",
    "    ax[1][i].set_title(name_match)\n",
    "    ax[1][i].get_yaxis().set_visible(False)\n",
    "fig.subplots_adjust(wspace=0.2)\n"
   ]
  }
 ],
 "metadata": {
  "interpreter": {
   "hash": "12ac5b4d630036dd984d249f0ca06a031c9f803d9086e9f651a16991300b1d88"
  },
  "kernelspec": {
   "display_name": "Python 3.9.7 ('sys809')",
   "language": "python",
   "name": "python3"
  },
  "language_info": {
   "codemirror_mode": {
    "name": "ipython",
    "version": 3
   },
   "file_extension": ".py",
   "mimetype": "text/x-python",
   "name": "python",
   "nbconvert_exporter": "python",
   "pygments_lexer": "ipython3",
   "version": "3.9.7"
  },
  "orig_nbformat": 4
 },
 "nbformat": 4,
 "nbformat_minor": 2
}
