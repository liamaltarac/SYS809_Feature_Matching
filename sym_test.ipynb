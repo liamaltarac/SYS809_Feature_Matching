{
 "cells": [
  {
   "cell_type": "code",
   "execution_count": 30,
   "metadata": {},
   "outputs": [],
   "source": [
    "import numpy as np\n",
    "from scipy.ndimage.interpolation import rotate\n",
    "\n",
    "x = np.random.randint(0, 1000, size=[3, 3])\n",
    "rotated = rotate(x, angle=20, reshape=False)"
   ]
  },
  {
   "cell_type": "code",
   "execution_count": 21,
   "metadata": {},
   "outputs": [],
   "source": [
    "def decomp(mat):\n",
    "\n",
    "    mat = list(mat)\n",
    "    sym = []#np.empty(mat.shape[-2:])\n",
    "    \n",
    "    for m in mat:\n",
    "        print('_________')\n",
    "        print(type(m))\n",
    "        mat_flip_x = np.fliplr(m)\n",
    "\n",
    "        mat_flip_y = np.flipud(m)\n",
    "        mat_flip_xy = np.fliplr(np.flipud(m))\n",
    "        sum = m + mat_flip_x + mat_flip_y + mat_flip_xy\n",
    "\n",
    "        mat_sum_rot_90 = np.rot90(sum)\n",
    "        print((sum + mat_sum_rot_90) / 8)\n",
    "        #sym = (sum + mat_sum_rot_90) / 8\n",
    "        #anti_sym = mat - sym\n",
    "        sym.append(((sum + mat_sum_rot_90) / 8))\n",
    "\n",
    "    return np.array(sym) #, anti_sym\n"
   ]
  },
  {
   "cell_type": "code",
   "execution_count": 31,
   "metadata": {},
   "outputs": [
    {
     "data": {
      "text/plain": [
       "array([[616, 983, 776],\n",
       "       [797, 407, 970],\n",
       "       [988, 754, 638]])"
      ]
     },
     "execution_count": 31,
     "metadata": {},
     "output_type": "execute_result"
    }
   ],
   "source": [
    "x"
   ]
  },
  {
   "cell_type": "code",
   "execution_count": 32,
   "metadata": {},
   "outputs": [
    {
     "data": {
      "text/plain": [
       "array([[  0, 942,   0],\n",
       "       [705, 407, 861],\n",
       "       [  0, 852,   0]])"
      ]
     },
     "execution_count": 32,
     "metadata": {},
     "output_type": "execute_result"
    }
   ],
   "source": [
    "rotated"
   ]
  },
  {
   "cell_type": "code",
   "execution_count": 33,
   "metadata": {},
   "outputs": [
    {
     "name": "stdout",
     "output_type": "stream",
     "text": [
      "_________\n",
      "<class 'numpy.ndarray'>\n",
      "[[754.5 876.  754.5]\n",
      " [876.  407.  876. ]\n",
      " [754.5 876.  754.5]]\n"
     ]
    },
    {
     "data": {
      "text/plain": [
       "array([[[754.5, 876. , 754.5],\n",
       "        [876. , 407. , 876. ],\n",
       "        [754.5, 876. , 754.5]]])"
      ]
     },
     "execution_count": 33,
     "metadata": {},
     "output_type": "execute_result"
    }
   ],
   "source": [
    "decomp([x])"
   ]
  },
  {
   "cell_type": "code",
   "execution_count": 34,
   "metadata": {},
   "outputs": [
    {
     "name": "stdout",
     "output_type": "stream",
     "text": [
      "_________\n",
      "<class 'numpy.ndarray'>\n",
      "[[  0. 840.   0.]\n",
      " [840. 407. 840.]\n",
      " [  0. 840.   0.]]\n"
     ]
    },
    {
     "data": {
      "text/plain": [
       "array([[[  0., 840.,   0.],\n",
       "        [840., 407., 840.],\n",
       "        [  0., 840.,   0.]]])"
      ]
     },
     "execution_count": 34,
     "metadata": {},
     "output_type": "execute_result"
    }
   ],
   "source": [
    "decomp([rotated])"
   ]
  }
 ],
 "metadata": {
  "interpreter": {
   "hash": "8ae1c919e8759b9ca5f5d266f26c53b5716749d6647e5ad3a1576feeb749770f"
  },
  "kernelspec": {
   "display_name": "Python 3.9.7 ('sys809')",
   "language": "python",
   "name": "python3"
  },
  "language_info": {
   "codemirror_mode": {
    "name": "ipython",
    "version": 3
   },
   "file_extension": ".py",
   "mimetype": "text/x-python",
   "name": "python",
   "nbconvert_exporter": "python",
   "pygments_lexer": "ipython3",
   "version": "3.9.7"
  },
  "orig_nbformat": 4
 },
 "nbformat": 4,
 "nbformat_minor": 2
}
